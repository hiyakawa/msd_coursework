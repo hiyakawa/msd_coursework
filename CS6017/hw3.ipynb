{
 "cells": [
  {
   "attachments": {},
   "cell_type": "markdown",
   "metadata": {
    "collapsed": false,
    "pycharm": {
     "name": "#%% md\n"
    }
   },
   "source": [
    "# HW 3\n",
    "\n",
    "Muyuan Zhang\n",
    "\n",
    "u1430770\n",
    "\n",
    "06/12/2023"
   ]
  },
  {
   "cell_type": "code",
   "execution_count": null,
   "metadata": {
    "collapsed": false,
    "pycharm": {
     "name": "#%%\n"
    }
   },
   "outputs": [],
   "source": [
    "import pandas as pd\n",
    "import numpy as np\n",
    "import re\n",
    "import requests\n",
    "import time\n",
    "from bs4 import BeautifulSoup\n",
    "import statsmodels.formula.api as smf\n",
    "import seaborn as sns"
   ]
  },
  {
   "attachments": {},
   "cell_type": "markdown",
   "metadata": {
    "collapsed": false,
    "pycharm": {
     "name": "#%% md\n"
    }
   },
   "source": [
    "## Part 1"
   ]
  },
  {
   "cell_type": "code",
   "execution_count": null,
   "metadata": {
    "collapsed": true,
    "pycharm": {
     "name": "#%%\n"
    }
   },
   "outputs": [],
   "source": [
    "headers = {\"User-agent\" : 'Mozilla/5.0 (Macintosh; Intel Mac OS X 10_15_7) AppleWebKit/605.1.15 (KHTML, like Gecko) Version/15.5 Safari/605.1.15'}\n",
    "ranks = []\n",
    "title_lens = []\n",
    "ages = []\n",
    "points = []\n",
    "comment_nums = []\n",
    "\n",
    "def scrape(page_num):\n",
    "    URL = 'https://news.ycombinator.com/news?p=' + str(page_num)\n",
    "    page = requests.get(f'{URL}', headers=headers)\n",
    "    soup = BeautifulSoup(page.content, 'html.parser')\n",
    "\n",
    "    for rank in soup.find_all('span', class_='rank'):\n",
    "        ranks.append(int(rank.get_text().strip().replace('.', '')))\n",
    "\n",
    "    for title in soup.find_all('span', class_='titleline'):\n",
    "        cur_title = re.sub(\"\\(.*?\\)|\\[.*?\\]\",\"\", title.text.strip()).strip()\n",
    "        title_lens.append(len(cur_title))\n",
    "\n",
    "    for row in soup.find_all('td', class_='subtext'):\n",
    "        age = row.find(\"span\", class_='age').find('a')\n",
    "\n",
    "        if age is None:\n",
    "            ages.append(float(0))\n",
    "        elif 'minute' in age.text:\n",
    "            ages.append(float(age.text.strip().replace(\" minute ago\", '').replace('minutes ago', ''))/60)\n",
    "        elif 'day' in age.text:\n",
    "            ages.append(float(age.text.strip().replace(\" day ago\", '').replace('days ago', ''))*24)\n",
    "        else:\n",
    "            ages.append(float(age.text.strip().replace(\" hour ago\", '').replace('hours ago', '')))\n",
    "\n",
    "        score = row.find(\"span\", class_='score')\n",
    "        if score is None:\n",
    "            points.append(0)\n",
    "        else:\n",
    "            points.append(int(score.text.strip().replace(' points', '').replace(' point', '')))\n",
    "\n",
    "        comment = row.find_all('a')[-1]\n",
    "        if 'comment' in comment.text:\n",
    "            comment_nums.append(int(comment.text.strip().replace(u'\\xa0', u' ').replace(' comments', '').replace('comment', '')))\n",
    "        else:\n",
    "            comment_nums.append(0)\n",
    "\n",
    "    time.sleep(1)\n",
    "\n",
    "for i in range(1, 6):\n",
    "    scrape(i)\n",
    "\n",
    "df = pd.DataFrame({'rank': ranks, 'length_of_title': title_lens, 'age_in_hours' : ages, 'points' : points, 'number_of_comments': comment_nums})\n",
    "df"
   ]
  },
  {
   "attachments": {},
   "cell_type": "markdown",
   "metadata": {
    "collapsed": false,
    "pycharm": {
     "name": "#%% md\n"
    }
   },
   "source": [
    "## Part 2"
   ]
  },
  {
   "cell_type": "code",
   "execution_count": null,
   "metadata": {
    "collapsed": false,
    "pycharm": {
     "name": "#%%\n"
    }
   },
   "outputs": [],
   "source": [
    "results = smf.ols('rank ~ length_of_title', data=df).fit()\n",
    "print(results.summary())"
   ]
  },
  {
   "cell_type": "code",
   "execution_count": null,
   "metadata": {
    "collapsed": false,
    "pycharm": {
     "name": "#%%\n"
    }
   },
   "outputs": [],
   "source": [
    "results = smf.ols('rank ~ number_of_comments', data=df).fit()\n",
    "print(results.summary())"
   ]
  },
  {
   "cell_type": "code",
   "execution_count": null,
   "metadata": {
    "collapsed": false,
    "pycharm": {
     "name": "#%%\n"
    }
   },
   "outputs": [],
   "source": [
    "results = smf.ols('rank ~ age_in_hours', data=df).fit()\n",
    "print(results.summary())"
   ]
  },
  {
   "cell_type": "code",
   "execution_count": null,
   "metadata": {
    "collapsed": false,
    "pycharm": {
     "name": "#%%\n"
    }
   },
   "outputs": [],
   "source": [
    "results = smf.ols('rank ~ points', data=df).fit()\n",
    "print(results.summary())"
   ]
  },
  {
   "cell_type": "code",
   "execution_count": null,
   "metadata": {
    "collapsed": false,
    "pycharm": {
     "name": "#%%\n"
    }
   },
   "outputs": [],
   "source": [
    "results = smf.ols('rank ~ points + number_of_comments + length_of_title + age_in_hours', data=df).fit()\n",
    "print(results.summary())"
   ]
  },
  {
   "cell_type": "code",
   "execution_count": null,
   "metadata": {
    "collapsed": false,
    "pycharm": {
     "name": "#%%\n"
    }
   },
   "outputs": [],
   "source": [
    "results = smf.ols('rank ~ points + age_in_hours', data=df).fit()\n",
    "print(results.summary())"
   ]
  },
  {
   "cell_type": "code",
   "execution_count": null,
   "metadata": {
    "collapsed": false,
    "pycharm": {
     "name": "#%%\n"
    }
   },
   "outputs": [],
   "source": [
    "sns.regplot(x=\"points\", y=\"rank\", data=df).set(title=\"Rank vs Points\")"
   ]
  },
  {
   "cell_type": "code",
   "execution_count": null,
   "metadata": {
    "collapsed": false,
    "pycharm": {
     "name": "#%%\n"
    }
   },
   "outputs": [],
   "source": [
    "sns.regplot(x=\"age_in_hours\", y=\"rank\", data=df).set(title=\"Rank vs Age in Hours\")"
   ]
  },
  {
   "attachments": {},
   "cell_type": "markdown",
   "metadata": {
    "collapsed": false,
    "pycharm": {
     "name": "#%% md\n"
    }
   },
   "source": [
    "Q: Include at least 3 different regressions. Compare/contrast them. Which is the most useful. What are the R^2 scores, p-values for coefficients, and values of the coefficients - and what do these tell us?\n",
    "\n",
    "A: R^2 score is a measure of the goodness of fit of a model. P-value decides to accept or reject a null hypothesis. Values of the coefficients are the values that multiply the predictor values.\n",
    "\n",
    "Q: Are there linear relationships between any of the variables?\n",
    "\n",
    "A: The `rank` ~ `age_in_hours` pair has the relatively strongest single linear relationship with a greatest R-squared values. The `rank` ~ `age_in_hours & points` model fits best among all the models."
   ]
  },
  {
   "attachments": {},
   "cell_type": "markdown",
   "metadata": {
    "collapsed": false,
    "pycharm": {
     "name": "#%% md\n"
    }
   },
   "source": [
    "## Part 3"
   ]
  },
  {
   "cell_type": "code",
   "execution_count": null,
   "metadata": {
    "collapsed": false,
    "pycharm": {
     "name": "#%%\n"
    }
   },
   "outputs": [],
   "source": [
    "# Use logistic regression to attempt to classify whether or not \n",
    "# an article will be on the front page, given the other (non-rank) variables\n",
    "df['is_on_front_page'] = [1 if x < 31 else 0 for x in df['rank']]\n",
    "\n",
    "log_reg = smf.logit('is_on_front_page ~ age_in_hours', df).fit()\n",
    "print(log_reg.summary())\n",
    "sns.regplot(y='is_on_front_page', x='age_in_hours', logistic=True, data=df, ci=None)"
   ]
  },
  {
   "cell_type": "code",
   "execution_count": null,
   "metadata": {
    "collapsed": false,
    "pycharm": {
     "name": "#%%\n"
    }
   },
   "outputs": [],
   "source": [
    "log_reg = smf.logit('is_on_front_page ~ points', df).fit()\n",
    "print(log_reg.summary())\n",
    "sns.regplot(y='is_on_front_page', x='points', logistic=True, data=df, ci=None)"
   ]
  },
  {
   "cell_type": "code",
   "execution_count": null,
   "metadata": {
    "collapsed": false,
    "pycharm": {
     "name": "#%%\n"
    }
   },
   "outputs": [],
   "source": [
    "log_reg = smf.logit('is_on_front_page ~ points + age_in_hours', df).fit()\n",
    "print(log_reg.summary())\n",
    "p = log_reg.params\n",
    "predictions = []\n",
    "\n",
    "for index, row in df.iterrows() :\n",
    "    predictions.append(p.Intercept + p.points * row.points + p.age_in_hours * row.age_in_hours)\n",
    "\n",
    "df[\"my_predictions\"] = predictions\n",
    "sns.regplot(y='is_on_front_page', x='my_predictions', data=df, logistic=True)\n",
    "\n",
    "ax = df.plot(x='rank', y='my_predictions', kind='scatter', c='is_on_front_page', colormap='viridis', figsize=[10,10])\n",
    "print(df.head())\n",
    "\n",
    "x=df['rank']\n",
    "ax.plot(x, [p.Intercept + p.points + p.age_in_hours for x in range(1,151)])\n",
    "ax.set_xlim([1, 151])"
   ]
  },
  {
   "cell_type": "code",
   "execution_count": null,
   "metadata": {
    "collapsed": false,
    "pycharm": {
     "name": "#%%\n"
    }
   },
   "outputs": [],
   "source": [
    "predictions = []\n",
    "\n",
    "for index, row in df.iterrows():\n",
    "    predictions.append((row.points - 1) / (row.age_in_hours + 2)**1.8)\n",
    "\n",
    "df[\"other_predictions\"] = predictions\n",
    "sns.regplot(y='is_on_front_page', x='other_predictions', data=df, logistic=True)\n",
    "\n",
    "ax = df.plot(x='rank', y='other_predictions', kind='scatter', c='is_on_front_page', colormap='viridis', figsize=[10, 10])\n",
    "print(df.head())\n",
    "\n",
    "x = df['rank']\n",
    "ax.plot(x, [1.5 for x in range(1,151)])\n",
    "ax.set_xlim([1, 151])"
   ]
  }
 ],
 "metadata": {
  "kernelspec": {
   "display_name": "Python 3",
   "language": "python",
   "name": "python3"
  },
  "language_info": {
   "codemirror_mode": {
    "name": "ipython",
    "version": 3
   },
   "file_extension": ".py",
   "mimetype": "text/x-python",
   "name": "python",
   "nbconvert_exporter": "python",
   "pygments_lexer": "ipython3",
   "version": "3.11.3"
  }
 },
 "nbformat": 4,
 "nbformat_minor": 0
}
