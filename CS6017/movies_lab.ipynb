{
 "cells": [
  {
   "attachments": {},
   "cell_type": "markdown",
   "metadata": {
    "collapsed": false,
    "pycharm": {
     "name": "#%% md\n"
    }
   },
   "source": [
    "# Lab - Movie (Graph) Analysis\n",
    "\n",
    "Muyuan Zhang\n",
    "\n",
    "July 20 2023"
   ]
  },
  {
   "cell_type": "code",
   "execution_count": null,
   "metadata": {
    "collapsed": true,
    "pycharm": {
     "name": "#%%\n"
    }
   },
   "outputs": [],
   "source": [
    "import json\n",
    "import networkx as nx\n",
    "import matplotlib.pyplot as plt\n",
    "import re\n",
    "import statistics\n",
    "import matplotlib.colors as mcolors"
   ]
  },
  {
   "cell_type": "markdown",
   "metadata": {},
   "source": [
    "## Step 1: Ingest the Data\n",
    "### Task 1"
   ]
  },
  {
   "cell_type": "code",
   "execution_count": null,
   "metadata": {},
   "outputs": [],
   "source": [
    "movie_list = []\n",
    "\n",
    "with open('imdbClean.json', 'r', errors='ignore') as file:\n",
    "    for line in file:\n",
    "        line = line.strip()\n",
    "\n",
    "        try:\n",
    "            movie = json.loads(line)\n",
    "            # store each of these movie objects in a list\n",
    "            movie_list.append(movie)\n",
    "        except json.JSONDecodeError:\n",
    "            continue"
   ]
  },
  {
   "cell_type": "markdown",
   "metadata": {},
   "source": [
    "### Task 2"
   ]
  },
  {
   "cell_type": "code",
   "execution_count": null,
   "metadata": {},
   "outputs": [],
   "source": [
    "us_movies_list = [movie for movie in movie_list if 'Country' in movie and re.compile(r'USA', re.IGNORECASE).search(\n",
    "        movie['Country'])]\n",
    "\n",
    "print(\"The total number of movies is\", len(movie_list))\n",
    "print(\"The number of US movies is\", len(us_movies_list))"
   ]
  },
  {
   "cell_type": "markdown",
   "metadata": {},
   "source": [
    "## Step 2: Kevin Bacon\n",
    "### Create a graph object"
   ]
  },
  {
   "cell_type": "code",
   "execution_count": null,
   "metadata": {},
   "outputs": [],
   "source": [
    "movieGraph = nx.Graph()\n",
    "\n",
    "for cur_movie in us_movies_list[:10]:\n",
    "    actors = cur_movie['Actors'].split(', ')\n",
    "    actors = [actor for actor in actors if actor != 'N/A']\n",
    "\n",
    "    for actor in actors:\n",
    "        movieGraph.add_node(actor)\n",
    "        \n",
    "        for costar in actors:\n",
    "            if actor != costar:\n",
    "                movieGraph.add_edge(actor, costar)\n",
    "\n",
    "nx.draw(movieGraph, with_labels=True, pos=nx.kamada_kawai_layout(movieGraph), font_size=7, node_size=50)\n",
    "plt.title(\"Movie Graph\")\n",
    "plt.show()"
   ]
  },
  {
   "cell_type": "markdown",
   "metadata": {},
   "source": [
    "### Q1: Which actor has been in the most movies?"
   ]
  },
  {
   "cell_type": "code",
   "execution_count": null,
   "metadata": {},
   "outputs": [],
   "source": [
    "movieGraph = nx.Graph()\n",
    "\n",
    "for cur_movie in us_movies_list:\n",
    "    actors = cur_movie['Actors'].split(', ')\n",
    "    actors = [actor for actor in actors if actor != 'N/A']\n",
    "\n",
    "    for actor in actors:\n",
    "        movieGraph.add_node(actor)\n",
    "\n",
    "        for costar in actors:\n",
    "            if actor != costar:\n",
    "                movieGraph.add_edge(actor, costar)\n",
    "\n",
    "max_degree = max(movieGraph.degree(), key=lambda x: x[1])[1]\n",
    "actor_in_most_movies = [actor for actor, degree in movieGraph.degree() if degree == max_degree]\n",
    "print(actor_in_most_movies, \"has been in the most movies.\")"
   ]
  },
  {
   "cell_type": "markdown",
   "metadata": {},
   "source": [
    "### Q2: How many movies was Kevin Bacon in? How many costars has he had?"
   ]
  },
  {
   "cell_type": "code",
   "execution_count": null,
   "metadata": {},
   "outputs": [],
   "source": [
    "actor_movies = {}\n",
    "\n",
    "for movie in us_movies_list:\n",
    "    actors = movie['Actors'].split(', ')\n",
    "    actors = [actor for actor in actors if actor != 'N/A']\n",
    "\n",
    "    for actor in actors:\n",
    "        if actor not in actor_movies:\n",
    "            actor_movies[actor] = 0\n",
    "            \n",
    "        actor_movies[actor] += 1\n",
    "\n",
    "print(\"Kevin Bacon was in\", actor_movies['Kevin Bacon'], \"movies and has had\", \n",
    "      movieGraph.degree('Kevin Bacon'), \"costars.\")"
   ]
  },
  {
   "cell_type": "markdown",
   "metadata": {},
   "source": [
    "### Q3: What is the median number of costars an actor has had?"
   ]
  },
  {
   "cell_type": "code",
   "execution_count": null,
   "metadata": {},
   "outputs": [],
   "source": [
    "degrees_list = list(dict(movieGraph.degree()).values())\n",
    "\n",
    "print(\"The median number of costars an actor has had is\", statistics.median(degrees_list))\n",
    "\n",
    "plt.hist(degrees_list, bins=range(min(degrees_list), max(degrees_list) + 1, 1))\n",
    "plt.xlabel(\"# of costars\")\n",
    "plt.ylabel(\"# of actors\")\n",
    "plt.title(\"Distribution of Actors' Costars\")\n",
    "plt.show()"
   ]
  },
  {
   "cell_type": "markdown",
   "metadata": {},
   "source": [
    "### Q4: Is the \"6 degrees of separation\" from Kevin Bacon theory true? If not, provide counterexamples."
   ]
  },
  {
   "cell_type": "code",
   "execution_count": null,
   "metadata": {},
   "outputs": [],
   "source": [
    "path_lengths_list = list(nx.shortest_path_length(movieGraph, source='Kevin Bacon').values())\n",
    "\n",
    "plt.hist(path_lengths_list, bins=range(min(path_lengths_list),\n",
    "                                       max(path_lengths_list) + 1, 1))\n",
    "plt.xlabel(\"Length of path\")\n",
    "plt.ylabel(\"# of actors\")\n",
    "plt.title(\"Distribution of lengths of path between Kevin Bacon and everyone else\")\n",
    "plt.show()\n",
    "\n",
    "paths_shorter_than_7 = sum(1 for path_length in path_lengths_list if path_length <= 6)\n",
    "percentage = (paths_shorter_than_7 / len(path_lengths_list))\n",
    "print(round(percentage, 4) * 100, \"% of the paths are shorter than 7.\")\n",
    "if percentage > 0.99:\n",
    "    print(\"The 6 degrees of separation from Kevin Bacon theory is very likely true.\")\n"
   ]
  },
  {
   "cell_type": "markdown",
   "metadata": {},
   "source": [
    "## Step 3: Other Actor Analysis"
   ]
  },
  {
   "cell_type": "code",
   "execution_count": null,
   "metadata": {},
   "outputs": [],
   "source": [
    "kevin_bacon_subgraph = nx.subgraph(movieGraph, list(movieGraph.neighbors('Kevin Bacon')) + ['Kevin Bacon'])\n",
    "node_degrees_colors_map = dict(kevin_bacon_subgraph.degree())\n",
    "second_largest_value = sorted(node_degrees_colors_map.values())[-2]\n",
    "node_degrees_colors_map['Kevin Bacon'] = second_largest_value + 1\n",
    "\n",
    "cmap = plt.cm.Reds\n",
    "scalar_map = plt.cm.ScalarMappable(norm=mcolors.Normalize(\n",
    "    vmin=min(node_degrees_colors_map.values()), vmax=max(node_degrees_colors_map.values())), cmap=cmap)\n",
    "scalar_map.set_array([])\n",
    "\n",
    "plt.figure(figsize=(22, 18))\n",
    "nx.draw(kevin_bacon_subgraph, with_labels=True, pos=nx.circular_layout(kevin_bacon_subgraph),\n",
    "        node_color=list(node_degrees_colors_map.values()), cmap=cmap)\n",
    "cbar = plt.colorbar(scalar_map)\n",
    "cbar.set_label(\"Node degree\")\n",
    "plt.title(\"Kevin Bacon subgraph circular layout\")\n",
    "plt.show()\n",
    "\n",
    "plt.figure(figsize=(22, 18))\n",
    "nx.draw(kevin_bacon_subgraph, with_labels=True, pos=nx.spring_layout(kevin_bacon_subgraph),font_size=10,\n",
    "        node_color=list(node_degrees_colors_map.values()), cmap=cmap, width=0.5)\n",
    "cbar = plt.colorbar(scalar_map)\n",
    "cbar.set_label(\"Node degree\")\n",
    "plt.title(\"Kevin Bacon subgraph spring layout\")\n",
    "plt.show()\n",
    "\n",
    "pagerank_actors = sorted(nx.pagerank(movieGraph).items(), key=lambda x: x[1], reverse=True)\n",
    "\n",
    "print(\"5 highest scoring actors:\", pagerank_actors[:5])\n",
    "print(\"5 lowest scoring actors:\", pagerank_actors[-5:])"
   ]
  },
  {
   "cell_type": "markdown",
   "metadata": {},
   "source": [
    "Q: What does the page rank tell you here?\n",
    "\n",
    "A: PageRank calculates the ranks based on the proportional rank passed around the actors. Actors with more costars will have higher PageRank, and for actors who have the same number of costars, those who collaborate with more influential actors will be ranked higher."
   ]
  }
 ],
 "metadata": {
  "kernelspec": {
   "display_name": "Python 3",
   "language": "python",
   "name": "python3"
  },
  "language_info": {
   "codemirror_mode": {
    "name": "ipython",
    "version": 3
   },
   "file_extension": ".py",
   "mimetype": "text/x-python",
   "name": "python",
   "nbconvert_exporter": "python",
   "pygments_lexer": "ipython3",
   "version": "3.11.3"
  }
 },
 "nbformat": 4,
 "nbformat_minor": 0
}
