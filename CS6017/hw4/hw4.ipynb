{
 "cells": [
  {
   "attachments": {},
   "cell_type": "markdown",
   "metadata": {
    "collapsed": false,
    "pycharm": {
     "name": "#%% md\n"
    }
   },
   "source": [
    "# HW 4\n",
    "\n",
    "Muyuan Zhang\n",
    "\n",
    "u1430770\n",
    "\n",
    "06/27/2023"
   ]
  },
  {
   "cell_type": "code",
   "execution_count": null,
   "metadata": {
    "collapsed": true,
    "pycharm": {
     "name": "#%%\n"
    }
   },
   "outputs": [],
   "source": [
    "import pandas as pd\n",
    "from sklearn.linear_model import LinearRegression\n",
    "\n",
    "df = pd.read_csv(\"gaussian.csv\")\n",
    "\n",
    "k_df = df[(df[\"N\"] == 10000) & (df[\"dim\"] == 2)]\n",
    "n_df = df[(df[\"k\"] == 64) & (df[\"dim\"] == 2)]\n",
    "dim_df = df[(df[\"N\"] == 10000) & (df[\"k\"] == 64)]\n",
    "\n",
    "k_df.set_index(\"k\").groupby(\"struct\")[\"time\"].plot(legend=True)"
   ]
  },
  {
   "attachments": {},
   "cell_type": "markdown",
   "metadata": {
    "collapsed": false,
    "pycharm": {
     "name": "#%% md\n"
    }
   },
   "source": [
    "* Q: What run times do you expect to see based on simple big-O analysis?\n",
    "\n",
    "* A:\n",
    "    + QuadTree - O(N)\n",
    "    + KDTree - O(logN)\n",
    "    + KNN - O(Nd)\n",
    "\n",
    "## Gaussian\n",
    "\n",
    "* For a given k value, KDTree has the best performance among the four data structures."
   ]
  },
  {
   "cell_type": "code",
   "execution_count": null,
   "metadata": {
    "collapsed": false,
    "pycharm": {
     "name": "#%%\n"
    }
   },
   "outputs": [],
   "source": [
    "n_df.set_index(\"N\").groupby(\"struct\")[\"time\"].plot(legend=True)"
   ]
  },
  {
   "attachments": {},
   "cell_type": "markdown",
   "metadata": {
    "collapsed": false,
    "pycharm": {
     "name": "#%% md\n"
    }
   },
   "source": [
    "* For a given N value, KDTree has the best performance among the four data structures. Bucket KNN does a better job than Dumb KNN / QuadTree when the N value is greater than 50,000."
   ]
  },
  {
   "cell_type": "code",
   "execution_count": null,
   "metadata": {
    "collapsed": false,
    "pycharm": {
     "name": "#%%\n"
    }
   },
   "outputs": [],
   "source": [
    "dim_df.set_index(\"dim\").groupby(\"struct\")[\"time\"].plot(legend=True)"
   ]
  },
  {
   "attachments": {},
   "cell_type": "markdown",
   "metadata": {
    "collapsed": false,
    "pycharm": {
     "name": "#%% md\n"
    }
   },
   "source": [
    "* KDTree and Dumb KNN have roughly the same performance on different dimensions. However, as the size of dimensions grows large, the performance of Bucket KNN gets really worse."
   ]
  },
  {
   "cell_type": "code",
   "execution_count": null,
   "metadata": {
    "collapsed": false,
    "pycharm": {
     "name": "#%%\n"
    }
   },
   "outputs": [],
   "source": [
    "df = pd.read_csv(\"uniformgrid.csv\")\n",
    "\n",
    "k_df = df[(df[\"N\"] == 10000) & (df[\"dim\"] == 2)]\n",
    "n_df = df[(df[\"k\"] == 64) & (df[\"dim\"] == 2)]\n",
    "dim_df = df[(df[\"N\"] == 10000) & (df[\"k\"] == 64)]\n",
    "\n",
    "k_df.set_index(\"k\").groupby(\"struct\")[\"time\"].plot(legend=True)"
   ]
  },
  {
   "attachments": {},
   "cell_type": "markdown",
   "metadata": {
    "collapsed": false,
    "pycharm": {
     "name": "#%% md\n"
    }
   },
   "source": [
    "In the uniform data case, quad tree performs the poorest. The majority of these data structures appear to need time, which increases logarithmically with K. We can see that finding neighbors close to the query point takes longer for all data structures."
   ]
  },
  {
   "cell_type": "code",
   "execution_count": null,
   "metadata": {
    "collapsed": false,
    "pycharm": {
     "name": "#%%\n"
    }
   },
   "outputs": [],
   "source": [
    "n_df.set_index(\"N\").groupby(\"struct\")[\"time\"].plot(legend=True)"
   ]
  },
  {
   "attachments": {},
   "cell_type": "markdown",
   "metadata": {
    "collapsed": false,
    "pycharm": {
     "name": "#%% md\n"
    }
   },
   "source": [
    "## Uniform Grids\n",
    "\n",
    "* All the data structures have a linear time consumption as N changes. Bucket KNN performs the best and is hardly affected by the N value."
   ]
  },
  {
   "cell_type": "code",
   "execution_count": null,
   "metadata": {
    "collapsed": false,
    "pycharm": {
     "name": "#%%\n"
    }
   },
   "outputs": [],
   "source": [
    "dim_df.set_index(\"dim\").groupby(\"struct\")[\"time\"].plot(legend=True)"
   ]
  },
  {
   "cell_type": "code",
   "execution_count": null,
   "metadata": {
    "collapsed": false,
    "pycharm": {
     "name": "#%%\n"
    }
   },
   "outputs": [],
   "source": [
    "x = df.drop([\"struct\", \"time\"], axis=1)\n",
    "y = df.time\n",
    "model = LinearRegression().fit(x,y)\n",
    "print(\"k, n, dim\")\n",
    "print(model.coef_, model.score(x,y))"
   ]
  },
  {
   "attachments": {},
   "cell_type": "markdown",
   "metadata": {
    "collapsed": false,
    "pycharm": {
     "name": "#%% md\n"
    }
   },
   "source": [
    "* D has the most significant impact on runtime based on the linear regression result. The tests confirmed our expectations."
   ]
  }
 ],
 "metadata": {
  "kernelspec": {
   "display_name": "Python 3",
   "language": "python",
   "name": "python3"
  },
  "language_info": {
   "codemirror_mode": {
    "name": "ipython",
    "version": 3
   },
   "file_extension": ".py",
   "mimetype": "text/x-python",
   "name": "python",
   "nbconvert_exporter": "python",
   "pygments_lexer": "ipython3",
   "version": "3.11.3"
  }
 },
 "nbformat": 4,
 "nbformat_minor": 0
}
