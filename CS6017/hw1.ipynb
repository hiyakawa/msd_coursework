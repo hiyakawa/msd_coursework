{
 "cells": [
  {
   "attachments": {},
   "cell_type": "markdown",
   "metadata": {
    "collapsed": false,
    "pycharm": {
     "name": "#%% md\n"
    }
   },
   "source": [
    "# HW 1\n",
    "\n",
    "Muyuan Zhang\n",
    "\n",
    "u1430770\n",
    "\n",
    "05/26/2023"
   ]
  },
  {
   "attachments": {},
   "cell_type": "markdown",
   "metadata": {},
   "source": [
    "## Part 1"
   ]
  },
  {
   "cell_type": "code",
   "execution_count": null,
   "metadata": {
    "collapsed": true,
    "pycharm": {
     "name": "#%%\n"
    }
   },
   "outputs": [],
   "source": [
    "import math\n",
    "import statistics\n",
    "import numpy as np\n",
    "import pandas as pd\n",
    "import matplotlib.pyplot as plt\n",
    "from scipy.stats import norm\n",
    "\n",
    "# Create an array of 100 random numbers using the Numpy rand function\n",
    "random_array = np.random.random(100)"
   ]
  },
  {
   "cell_type": "code",
   "execution_count": null,
   "metadata": {
    "collapsed": false,
    "pycharm": {
     "name": "#%%\n"
    }
   },
   "outputs": [],
   "source": [
    "# Write functions to compute a) the mean\n",
    "def computeMean(input_array):\n",
    "    sum = 0.0\n",
    "\n",
    "    for num in input_array:\n",
    "        sum += num\n",
    "\n",
    "    mean = sum / len(input_array)\n",
    "\n",
    "    return mean\n",
    "\n",
    "# b) standard deviation of a Numpy array of data\n",
    "def computeSd(input_array):\n",
    "    sum = 0.0\n",
    "    mean = computeMean(input_array)\n",
    "\n",
    "    for num in input_array:\n",
    "        sum += (num - mean) * (num - mean)\n",
    "\n",
    "    return math.sqrt(sum / len(input_array))"
   ]
  },
  {
   "cell_type": "code",
   "execution_count": null,
   "metadata": {
    "collapsed": false,
    "pycharm": {
     "name": "#%%\n"
    }
   },
   "outputs": [],
   "source": [
    "# Verify that your mean/std deviation functions work correctly\n",
    "print(round(computeMean(random_array), 10) == round(np.mean(random_array), 10))\n",
    "print(round(computeSd(random_array), 10) == round(np.std(random_array), 10))\n",
    "print(round(computeMean(random_array), 10))\n",
    "print(round(computeSd(random_array), 10))"
   ]
  },
  {
   "cell_type": "code",
   "execution_count": null,
   "metadata": {
    "collapsed": false,
    "pycharm": {
     "name": "#%%\n"
    }
   },
   "outputs": [],
   "source": [
    "# What happens (to the mean/std dev) when you increase the number of \n",
    "# random numbers from 100 to 100000?\n",
    "random_array = np.random.random(100000)\n",
    "\n",
    "print(round(computeMean(random_array), 10))\n",
    "print(round(computeSd(random_array), 10))"
   ]
  },
  {
   "attachments": {},
   "cell_type": "markdown",
   "metadata": {
    "collapsed": false,
    "pycharm": {
     "name": "#%% md\n"
    }
   },
   "source": [
    "The mean value gets closer to 0.5 and the sd value gets closer to 0 with a larger array size."
   ]
  },
  {
   "cell_type": "code",
   "execution_count": null,
   "metadata": {
    "collapsed": false,
    "pycharm": {
     "name": "#%%\n"
    }
   },
   "outputs": [],
   "source": [
    "# sample from the normal distribution to create an array of data (10000 values)\n",
    "normal_array = np.array(norm.rvs(size = 10000))\n",
    "print(round(computeMean(normal_array), 10) == round(np.mean(normal_array), 10))\n",
    "print(round(computeSd(normal_array), 10) == round(np.std(normal_array), 10))\n",
    "print(round(computeMean(normal_array), 10))\n",
    "print(round(computeSd(normal_array), 10))"
   ]
  },
  {
   "attachments": {},
   "cell_type": "markdown",
   "metadata": {
    "collapsed": false,
    "pycharm": {
     "name": "#%% md\n"
    }
   },
   "source": [
    "Q: What does the results of the mean/std dev of this data tell you about Scipy's norm's rvs function?\n",
    "A: Theoretically, the mean value of a normal distribution should be around 0, and the sd value should be close to 1."
   ]
  },
  {
   "cell_type": "code",
   "execution_count": null,
   "metadata": {
    "collapsed": false,
    "pycharm": {
     "name": "#%%\n"
    }
   },
   "outputs": [],
   "source": [
    "# Plot a histogram of your samples (using the pyplot hist function)\n",
    "# Experiment with using 10, 20, 40 bins.\n",
    "mean = computeMean(normal_array)\n",
    "sd = computeSd(normal_array)\n",
    "x = np.arange(mean - 4 * sd, mean + 4 * sd)\n",
    "pdf = norm.pdf(x, loc = mean, scale = sd)\n",
    "sizes = [10, 20, 40]\n",
    "\n",
    "for size in sizes:\n",
    "    plt.hist(normal_array, bins=size, density=True)\n",
    "    plt.plot(x, pdf, linewidth=5)\n",
    "    plt.show()"
   ]
  },
  {
   "attachments": {},
   "cell_type": "markdown",
   "metadata": {},
   "source": [
    "## Part 2"
   ]
  },
  {
   "cell_type": "code",
   "execution_count": null,
   "metadata": {
    "collapsed": false,
    "pycharm": {
     "name": "#%%\n"
    }
   },
   "outputs": [],
   "source": [
    "# Pick one of the monitoring stations from the dataset\n",
    "# and perform your analysis from the readings from that station\n",
    "df = pd.read_csv(\"2021-PM2.5.csv\")\n",
    "bv_df = df[[\"Date\", \"BV-MC\"]]\n",
    "bv_df.head()\n",
    "\n",
    "print(type(bv_df[\"Date\"][0]))\n",
    "print(type(bv_df[\"BV-MC\"][0]))\n",
    "\n",
    "data_array = bv_df[\"BV-MC\"]\n",
    "data_list = np.array(data_array.values.tolist())\n",
    "numpy_mean = np.mean(data_array)\n",
    "numpy_sd = np.std(data_array)\n",
    "\n",
    "print(\"Mean value:\", numpy_mean)\n",
    "print(\"Standard deviation:\", numpy_sd)"
   ]
  },
  {
   "cell_type": "code",
   "execution_count": null,
   "metadata": {
    "collapsed": false,
    "pycharm": {
     "name": "#%%\n"
    }
   },
   "outputs": [],
   "source": [
    "# Plot the readings from that station over the course of a year\n",
    "bv_df.index = pd.to_datetime(bv_df.Date)\n",
    "bv_df.head()\n",
    "\n",
    "plt.style.use('ggplot')\n",
    "bv_df[[\"BV-MC\"]].plot(kind=\"line\")\n",
    "plt.show()"
   ]
  },
  {
   "cell_type": "code",
   "execution_count": null,
   "metadata": {
    "collapsed": false,
    "pycharm": {
     "name": "#%%\n"
    }
   },
   "outputs": [],
   "source": [
    "# Plot the mean pm 2.5 level for each month using a bar chart\n",
    "monthly_average = bv_df.groupby(lambda date: date.month).agg(np.mean)\n",
    "monthly_average.plot(kind=\"bar\")\n",
    "plt.show()"
   ]
  },
  {
   "attachments": {},
   "cell_type": "markdown",
   "metadata": {
    "collapsed": false,
    "pycharm": {
     "name": "#%% md\n"
    }
   },
   "source": [
    "August has the highest PM 2.5 level. February/October has the lowest."
   ]
  },
  {
   "cell_type": "code",
   "execution_count": null,
   "metadata": {
    "collapsed": false,
    "pycharm": {
     "name": "#%%\n"
    }
   },
   "outputs": [],
   "source": [
    "# Plot the mean pollution level for each hour\n",
    "hourly_average = bv_df.groupby(lambda date: date.hour).agg(np.mean)\n",
    "hourly_average.plot(kind=\"bar\")\n",
    "plt.show()"
   ]
  },
  {
   "attachments": {},
   "cell_type": "markdown",
   "metadata": {
    "collapsed": false,
    "pycharm": {
     "name": "#%% md\n"
    }
   },
   "source": [
    "7 - 10 A.M. has the highest PM 2.5 level which might be caused by traffics."
   ]
  },
  {
   "cell_type": "code",
   "execution_count": null,
   "metadata": {
    "collapsed": false,
    "pycharm": {
     "name": "#%%\n"
    }
   },
   "outputs": [],
   "source": [
    "# Use \"Box and Whisker\" plots of the monthly and hourly data groupings \n",
    "#to provide a more complete view of the data\n",
    "monthly_average.plot(kind=\"box\")\n",
    "plt.show()\n",
    "\n",
    "hourly_average.plot(kind=\"box\")\n",
    "plt.show()"
   ]
  },
  {
   "attachments": {},
   "cell_type": "markdown",
   "metadata": {
    "collapsed": false,
    "pycharm": {
     "name": "#%% md\n"
    }
   },
   "source": [
    "Box and Whisker plot shows the distribuion and outliers more clearly."
   ]
  }
 ],
 "metadata": {
  "kernelspec": {
   "display_name": "Python 3",
   "language": "python",
   "name": "python3"
  },
  "language_info": {
   "codemirror_mode": {
    "name": "ipython",
    "version": 3
   },
   "file_extension": ".py",
   "mimetype": "text/x-python",
   "name": "python",
   "nbconvert_exporter": "python",
   "pygments_lexer": "ipython3",
   "version": "3.11.3"
  }
 },
 "nbformat": 4,
 "nbformat_minor": 0
}
