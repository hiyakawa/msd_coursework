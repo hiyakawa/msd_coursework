{
 "cells": [
  {
   "attachments": {},
   "cell_type": "markdown",
   "metadata": {
    "collapsed": false,
    "pycharm": {
     "name": "#%% md\n"
    }
   },
   "source": [
    "# HW 2\n",
    "\n",
    "Muyuan Zhang\n",
    "\n",
    "u1430770\n",
    "\n",
    "06/02/2023"
   ]
  },
  {
   "cell_type": "code",
   "execution_count": null,
   "metadata": {
    "collapsed": false,
    "pycharm": {
     "name": "#%%\n"
    }
   },
   "outputs": [],
   "source": [
    "import pandas as pd\n",
    "import numpy as np\n",
    "import scipy.stats as stats\n",
    "import seaborn as sns\n",
    "import matplotlib.pyplot as plt\n",
    "import statsmodels.formula.api as smf\n",
    "from statsmodels.stats.proportion import proportions_ztest"
   ]
  },
  {
   "attachments": {},
   "cell_type": "markdown",
   "metadata": {
    "collapsed": false,
    "pycharm": {
     "name": "#%% md\n"
    }
   },
   "source": [
    "## Part 1\n",
    "\n",
    "Null Hypothesis: Logo B is not better than Logo A."
   ]
  },
  {
   "cell_type": "code",
   "execution_count": null,
   "metadata": {
    "collapsed": false,
    "pycharm": {
     "name": "#%%\n"
    }
   },
   "outputs": [],
   "source": [
    "successes = np.array([500, 550])\n",
    "stat, p_value = proportions_ztest(count=successes, nobs=1000)\n",
    "\n",
    "print('z_value: %0.3f, p_value: %0.3f' % (stat, p_value))\n",
    "\n",
    "if p_value > 0.05:\n",
    "    print(\"Logo B is not better than Logo A at 5% significance level.\")\n",
    "else:\n",
    "    print(\"Logo B is better than Logo A at 5% significance level.\")\n",
    "\n",
    "if p_value > 0.01:\n",
    "    print(\"Logo B is not better than Logo A at 1% significance level.\")\n",
    "else:\n",
    "    print(\"Logo B is better than Logo A at 1% significance level.\")\n"
   ]
  },
  {
   "attachments": {},
   "cell_type": "markdown",
   "metadata": {
    "collapsed": false,
    "pycharm": {
     "name": "#%% md\n"
    }
   },
   "source": [
    "Conclusion: Logo B is better than Logo A at 5% significance level, but no better than Logo A at 1% significance level.\n",
    "\n",
    "If b is clicked 560 or 570 times, `p value` will be smaller than 0.025."
   ]
  },
  {
   "attachments": {},
   "cell_type": "markdown",
   "metadata": {
    "collapsed": false,
    "pycharm": {
     "name": "#%% md\n"
    }
   },
   "source": [
    "## Part 2"
   ]
  },
  {
   "attachments": {},
   "cell_type": "markdown",
   "metadata": {
    "collapsed": false,
    "pycharm": {
     "name": "#%% md\n"
    }
   },
   "source": [
    "### Task 1"
   ]
  },
  {
   "cell_type": "code",
   "execution_count": null,
   "metadata": {
    "collapsed": true,
    "pycharm": {
     "name": "#%%\n"
    }
   },
   "outputs": [],
   "source": [
    "df_1 = pd.read_csv(\"realEstate1.csv\")\n",
    "df_2 = pd.read_csv(\"realEstate2.csv\")\n",
    "df = pd.concat([df_1, df_2])\n",
    "df"
   ]
  },
  {
   "attachments": {},
   "cell_type": "markdown",
   "metadata": {
    "collapsed": false,
    "pycharm": {
     "name": "#%% md\n"
    }
   },
   "source": [
    "### Task 2"
   ]
  },
  {
   "cell_type": "code",
   "execution_count": null,
   "metadata": {
    "collapsed": false,
    "pycharm": {
     "name": "#%%\n"
    }
   },
   "outputs": [],
   "source": [
    "# Only keep houses with List Price between 200,000 and 1,000,000 dollars\n",
    "df = df[(df.LstPrice >= 200000) & (df.LstPrice <= 1000000)]\n",
    "df.reset_index(inplace=True, drop=True)\n",
    "\n",
    "# Remove columns that don't contribute to the value of the house\n",
    "df = df[['Acres', 'Deck', 'GaragCap', 'Latitude', 'Longitude', 'LstPrice', 'Patio', 'PkgSpacs', 'PropType', 'SoldPrice', 'Taxes', 'TotBed', 'TotBth', 'TotSqf', 'YearBlt']]\n",
    "\n",
    "# Convert 'TotSqf' to an integer.\n",
    "df.TotSqf = pd.Series(df.TotSqf).str.replace(',', '', regex=True)\n",
    "df.TotSqf = pd.to_numeric(df.TotSqf)\n",
    "\n",
    "Prop_Type_SingleFamily_Data = []\n",
    "\n",
    "for i in df['PropType']:\n",
    "    if i == 'Single Family':\n",
    "        Prop_Type_SingleFamily_Data.append(1)\n",
    "    else:\n",
    "        Prop_Type_SingleFamily_Data.append(0)\n",
    "\n",
    "df['Prop_Type_SingleFamily'] = Prop_Type_SingleFamily_Data\n",
    "\n",
    "# Remove the listings with erroneous 'Longitude' (one has Longitude = 0)\n",
    "# and 'Taxes' values (two have unreasonably large values)\n",
    "df = df[(df.Longitude != 0) & (df.Taxes < 10000)]\n",
    "df.reset_index(inplace=True, drop=True)\n",
    "df"
   ]
  },
  {
   "attachments": {},
   "cell_type": "markdown",
   "metadata": {
    "collapsed": false,
    "pycharm": {
     "name": "#%% md\n"
    }
   },
   "source": [
    "### Task 3"
   ]
  },
  {
   "cell_type": "code",
   "execution_count": null,
   "metadata": {
    "collapsed": false,
    "pycharm": {
     "name": "#%%\n"
    }
   },
   "outputs": [],
   "source": [
    "df.describe()"
   ]
  },
  {
   "attachments": {},
   "cell_type": "markdown",
   "metadata": {
    "collapsed": false,
    "pycharm": {
     "name": "#%% md\n"
    }
   },
   "source": [
    "The dataset has 260 items and 15 variables. The minimum value of `Taxes` is 1, which is sort of weird."
   ]
  },
  {
   "cell_type": "code",
   "execution_count": null,
   "metadata": {
    "collapsed": false,
    "pycharm": {
     "name": "#%%\n"
    }
   },
   "outputs": [],
   "source": [
    "# Make a bar chart showing the breakdown of the different types of houses\n",
    "df['PropType'].hist()"
   ]
  },
  {
   "cell_type": "code",
   "execution_count": null,
   "metadata": {
    "collapsed": false,
    "pycharm": {
     "name": "#%%\n"
    }
   },
   "outputs": [],
   "source": [
    "corr_df = df[['Acres', 'Deck', 'GaragCap', 'Latitude', 'Longitude', 'LstPrice', 'Patio', 'PkgSpacs', 'Prop_Type_SingleFamily', 'SoldPrice', 'Taxes', 'TotBed', 'TotBth', 'TotSqf', 'YearBlt']]\n",
    "\n",
    "corrMatrix = corr_df.corr()\n",
    "plt.figure(figsize=(14,14))\n",
    "sns.heatmap(corrMatrix, annot=True, vmin=-1, vmax=1)"
   ]
  },
  {
   "cell_type": "code",
   "execution_count": null,
   "metadata": {
    "collapsed": false,
    "pycharm": {
     "name": "#%%\n"
    }
   },
   "outputs": [],
   "source": [
    "\n",
    "pd.plotting.scatter_matrix(df[['Acres', 'LstPrice', 'SoldPrice', 'Taxes', 'TotBed', 'TotBth', 'TotSqf', 'YearBlt']], figsize=[14,14])\n",
    "\n",
    "plt.show()"
   ]
  },
  {
   "attachments": {},
   "cell_type": "markdown",
   "metadata": {
    "collapsed": false,
    "pycharm": {
     "name": "#%% md\n"
    }
   },
   "source": [
    "`SoldPrice` & `LstPrice` are strongly correlated.\n",
    "\n",
    "With larger `TotSqf`s, the properties are more likely to have higher `SoldPrice`, `LstPrice`, `Taxes`."
   ]
  },
  {
   "attachments": {},
   "cell_type": "markdown",
   "metadata": {
    "collapsed": false,
    "pycharm": {
     "name": "#%% md\n"
    }
   },
   "source": [
    "### Task 4"
   ]
  },
  {
   "cell_type": "code",
   "execution_count": null,
   "metadata": {
    "collapsed": false,
    "pycharm": {
     "name": "#%%\n"
    }
   },
   "outputs": [],
   "source": [
    "geoplot = df.plot(x='Longitude', y='Latitude', c='LstPrice', colormap='viridis', figsize=[10,10], kind='scatter')"
   ]
  },
  {
   "attachments": {},
   "cell_type": "markdown",
   "metadata": {
    "collapsed": false,
    "pycharm": {
     "name": "#%% md\n"
    }
   },
   "source": [
    "The prices of properties go higher on the northern or eastern side of the city."
   ]
  },
  {
   "attachments": {},
   "cell_type": "markdown",
   "metadata": {
    "collapsed": false,
    "pycharm": {
     "name": "#%% md\n"
    }
   },
   "source": [
    "### Task 5"
   ]
  },
  {
   "cell_type": "code",
   "execution_count": null,
   "metadata": {
    "collapsed": false,
    "pycharm": {
     "name": "#%%\n"
    }
   },
   "outputs": [],
   "source": [
    "result = smf.ols(formula='SoldPrice ~ TotBed', data=df).fit()\n",
    "print(result.summary())"
   ]
  },
  {
   "cell_type": "code",
   "execution_count": null,
   "metadata": {
    "collapsed": false,
    "pycharm": {
     "name": "#%%\n"
    }
   },
   "outputs": [],
   "source": [
    "result = smf.ols(formula='SoldPrice ~ TotSqf', data=df).fit()\n",
    "print(result.summary())"
   ]
  },
  {
   "cell_type": "code",
   "execution_count": null,
   "metadata": {
    "collapsed": false,
    "pycharm": {
     "name": "#%%\n"
    }
   },
   "outputs": [],
   "source": [
    "result = smf.ols(formula='SoldPrice ~ Taxes', data=df).fit()\n",
    "print(result.summary())"
   ]
  },
  {
   "cell_type": "code",
   "execution_count": null,
   "metadata": {
    "collapsed": false,
    "pycharm": {
     "name": "#%%\n"
    }
   },
   "outputs": [],
   "source": [
    "result = smf.ols(formula='SoldPrice ~ LstPrice', data=df).fit()\n",
    "print(result.summary())"
   ]
  },
  {
   "attachments": {},
   "cell_type": "markdown",
   "metadata": {
    "collapsed": false,
    "pycharm": {
     "name": "#%% md\n"
    }
   },
   "source": [
    "The R-squared value for `SoldPrice` ~ `LstPrice` model is 0.990, which indicates that the model predicts 99% of the relationship.\n",
    "\n",
    "beta_1 for this model is 0.9441, which means that the regression coefficient for `SoldPrice` ~ `LstPrice` model is 0.9441 and `SoldPrice` will be slightly less than `LstPrice`."
   ]
  },
  {
   "cell_type": "code",
   "execution_count": null,
   "metadata": {
    "collapsed": false,
    "pycharm": {
     "name": "#%%\n"
    }
   },
   "outputs": [],
   "source": [
    "# Make a plot of list price vs. sold price and overlay the prediction coming from your regression model\n",
    "sns.regplot(x='LstPrice', y='SoldPrice', data=df)"
   ]
  },
  {
   "attachments": {},
   "cell_type": "markdown",
   "metadata": {
    "collapsed": false,
    "pycharm": {
     "name": "#%% md\n"
    }
   },
   "source": [
    "### Task 6"
   ]
  },
  {
   "cell_type": "code",
   "execution_count": null,
   "metadata": {
    "collapsed": false,
    "pycharm": {
     "name": "#%%\n"
    }
   },
   "outputs": [],
   "source": [
    "result = smf.ols(formula='SoldPrice ~ Acres + GaragCap + Latitude + Longitude + TotBed + TotBth + TotSqf', data=df).fit()\n",
    "print(result.summary())"
   ]
  },
  {
   "attachments": {},
   "cell_type": "markdown",
   "metadata": {
    "collapsed": false,
    "pycharm": {
     "name": "#%% md\n"
    }
   },
   "source": [
    "* Which variables are the best predictors for the Sold Price?\n",
    "\n",
    "`Acres`, `GaragCap`, `Longitude`, and `TotSqf` are the best predictors for `SoldPrice` due to small p values.\n",
    "\n",
    "* Often the price per square foot for a house is advertised. Is this what the coefficient for TotSqf is measuring? Provide an interpretation for the coefficient for TotSqf.\n",
    "\n",
    "Yes. The coefficient for `TotSqf` means that beta_1 for this model is 90.8848 which is the price per square foot for a house.\n",
    "\n",
    "* Estimate the value that each Garage space adds to a house.\n",
    "\n",
    "4.165e+04 dollars.\n",
    "\n",
    "* Does latitude or longitude have an impact on house price? Explain.\n",
    "\n",
    "`Latitude` does not have a significant impact on house price. `Longitude` seems to have, but is only applicable within a given range, which is inside the city.\n",
    "\n",
    "* If we wanted to start a 'house flipping' company, we'd have to be able to do a better job of predicting the sold price than the list price does. How does your model compare?\n",
    "\n",
    "Remove the fields that do not have an impact on `SoldPrice` and build the model again."
   ]
  },
  {
   "cell_type": "code",
   "execution_count": null,
   "metadata": {},
   "outputs": [],
   "source": [
    "result = smf.ols(formula='SoldPrice ~ Acres + GaragCap + Longitude + TotSqf', data=df).fit()\n",
    "print(result.summary())"
   ]
  },
  {
   "attachments": {},
   "cell_type": "markdown",
   "metadata": {},
   "source": [
    "The R-squared value for our model is 0.803, which is lower than that for `SoldPrice` ~ `LstPrice` (0.990). Therefore our model cannot do a better job of predicting the sold price than the list price does."
   ]
  },
  {
   "attachments": {},
   "cell_type": "markdown",
   "metadata": {
    "collapsed": false,
    "pycharm": {
     "name": "#%% md\n"
    }
   },
   "source": [
    "### Task 7"
   ]
  },
  {
   "cell_type": "code",
   "execution_count": null,
   "metadata": {
    "collapsed": false,
    "pycharm": {
     "name": "#%%\n"
    }
   },
   "outputs": [],
   "source": [
    "color_dict = {'Single Family', 'Condo', 'Townhouse'}\n",
    "PropType = df.PropType.astype('category').cat.codes\n",
    "plt.figure(figsize=(10,10))\n",
    "scatter = plt.scatter(y=df.TotSqf, x=df.SoldPrice, c=PropType, s=10)\n",
    "plt.xlabel('Sold Price')\n",
    "plt.ylabel('Total Sq. Ft.')\n",
    "prop_names = ['Condo', 'Single Family', 'Townhouse']\n",
    "plt.legend(handles=scatter.legend_elements()[0],\n",
    "           labels=prop_names,\n",
    "           title=\"Property Type\")"
   ]
  },
  {
   "attachments": {},
   "cell_type": "markdown",
   "metadata": {
    "collapsed": false,
    "pycharm": {
     "name": "#%% md\n"
    }
   },
   "source": [
    "Property type is no longer predictable because `TotSqf` is much more related to `SoldPrice` than `PropType`."
   ]
  }
 ],
 "metadata": {
  "kernelspec": {
   "display_name": "Python 3",
   "language": "python",
   "name": "python3"
  },
  "language_info": {
   "codemirror_mode": {
    "name": "ipython",
    "version": 3
   },
   "file_extension": ".py",
   "mimetype": "text/x-python",
   "name": "python",
   "nbconvert_exporter": "python",
   "pygments_lexer": "ipython3",
   "version": "3.11.3"
  }
 },
 "nbformat": 4,
 "nbformat_minor": 0
}
